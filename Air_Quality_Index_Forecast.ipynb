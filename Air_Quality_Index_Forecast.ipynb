{
  "cells": [
    {
      "cell_type": "markdown",
      "metadata": {
        "id": "view-in-github",
        "colab_type": "text"
      },
      "source": [
        "<a href=\"https://colab.research.google.com/github/NisanthanG/Air-Quality-Monitoring-System/blob/main/Air_Quality_Index_Forecast.ipynb\" target=\"_parent\"><img src=\"https://colab.research.google.com/assets/colab-badge.svg\" alt=\"Open In Colab\"/></a>"
      ]
    },
    {
      "cell_type": "code",
      "execution_count": null,
      "metadata": {
        "id": "id_uPkJ07bGb"
      },
      "outputs": [],
      "source": [
        "# data preprocessing\n",
        "import pandas as pd\n",
        "import numpy as np\n",
        "import matplotlib.pyplot as plt\n",
        "import tensorflow as tf\n",
        "import datetime as dt\n",
        "from datetime import datetime\n",
        "import tensorflow.keras as keras\n",
        "from keras.callbacks import EarlyStopping, ReduceLROnPlateau, ModelCheckpoint, TensorBoard\n",
        "from numpy import polyfit\n",
        "import urllib.request\n",
        "%matplotlib inline"
      ]
    },
    {
      "cell_type": "code",
      "execution_count": null,
      "metadata": {
        "id": "V2xr4yfr7o_0"
      },
      "outputs": [],
      "source": [
        "df = pd.read_csv('air_quality_ts.csv',parse_dates={'dt' : ['Date', 'Time']}, sep=\" \",infer_datetime_format=True,low_memory=False, na_values=['nan','?'], index_col='dt')"
      ]
    },
    {
      "cell_type": "code",
      "execution_count": null,
      "metadata": {
        "colab": {
          "base_uri": "https://localhost:8080/"
        },
        "id": "c8qAj2RQ8ROB",
        "outputId": "201f644f-2599-4ce6-e40f-66a137bed506"
      },
      "outputs": [
        {
          "output_type": "stream",
          "name": "stdout",
          "text": [
            "<class 'pandas.core.frame.DataFrame'>\n",
            "DatetimeIndex: 9231 entries, 2022-05-19 00:04:19 to 2022-08-18 23:52:37\n",
            "Data columns (total 21 columns):\n",
            " #   Column       Non-Null Count  Dtype  \n",
            "---  ------       --------------  -----  \n",
            " 0   No           9231 non-null   int64  \n",
            " 1   Profile      9231 non-null   object \n",
            " 2   O3           9231 non-null   float64\n",
            " 3   CO           9231 non-null   float64\n",
            " 4   NO2          9231 non-null   float64\n",
            " 5   SO2          9231 non-null   float64\n",
            " 6   NO           9231 non-null   float64\n",
            " 7   CO2          9231 non-null   float64\n",
            " 8   VOC          9231 non-null   float64\n",
            " 9   PM1          9231 non-null   float64\n",
            " 10  PM2.5        9231 non-null   float64\n",
            " 11  PM4          9231 non-null   float64\n",
            " 12  PM10         9231 non-null   float64\n",
            " 13  TSP          9231 non-null   float64\n",
            " 14  TEMP         9231 non-null   float64\n",
            " 15  HUM          9231 non-null   float64\n",
            " 16  WS           9231 non-null   float64\n",
            " 17  WD           9231 non-null   int64  \n",
            " 18  ISPU         9231 non-null   int64  \n",
            " 19  Status       9231 non-null   object \n",
            " 20  Unnamed: 22  0 non-null      float64\n",
            "dtypes: float64(16), int64(3), object(2)\n",
            "memory usage: 1.5+ MB\n"
          ]
        }
      ],
      "source": [
        "df.info()"
      ]
    },
    {
      "cell_type": "code",
      "execution_count": null,
      "metadata": {
        "colab": {
          "base_uri": "https://localhost:8080/"
        },
        "id": "QQBejtOk8ZZO",
        "outputId": "c51a7c73-9257-4865-84ae-ad7a12f55147"
      },
      "outputs": [
        {
          "output_type": "execute_result",
          "data": {
            "text/plain": [
              "(9231, 21)"
            ]
          },
          "metadata": {},
          "execution_count": 5
        }
      ],
      "source": [
        "df.shape"
      ]
    },
    {
      "cell_type": "code",
      "execution_count": null,
      "metadata": {
        "colab": {
          "base_uri": "https://localhost:8080/"
        },
        "id": "Hy0Z_nH48kz0",
        "outputId": "cd3bdf61-cc18-44c0-ff5c-806a46a0fc1b"
      },
      "outputs": [
        {
          "output_type": "execute_result",
          "data": {
            "text/plain": [
              "Index(['No', 'Profile', 'O3', 'CO', 'NO2', 'SO2', 'NO', 'CO2', 'VOC', 'PM1',\n",
              "       'PM2.5', 'PM4', 'PM10', 'TSP', 'TEMP', 'HUM', 'WS', 'WD', 'ISPU',\n",
              "       'Status', 'Unnamed: 22'],\n",
              "      dtype='object')"
            ]
          },
          "metadata": {},
          "execution_count": 6
        }
      ],
      "source": [
        "df.columns"
      ]
    },
    {
      "cell_type": "code",
      "execution_count": null,
      "metadata": {
        "id": "-eYX11LXOEhd"
      },
      "outputs": [],
      "source": [
        "df_new = df[['PM2.5','PM10','CO','CO2','TEMP','HUM']]"
      ]
    },
    {
      "cell_type": "code",
      "execution_count": null,
      "metadata": {
        "colab": {
          "base_uri": "https://localhost:8080/",
          "height": 237
        },
        "id": "QWmNrhIMO6Mq",
        "outputId": "f488f1e8-dee4-4e3b-ca38-290fd8872d3e"
      },
      "outputs": [
        {
          "output_type": "execute_result",
          "data": {
            "text/plain": [
              "                     PM2.5   PM10    CO     CO2  TEMP   HUM\n",
              "dt                                                         \n",
              "2022-08-18 23:12:37    4.5  12.90  0.26  389.93  20.8  68.1\n",
              "2022-08-18 23:22:37    4.5   5.68  0.20  379.97  20.7  68.0\n",
              "2022-08-18 23:32:37    4.5  15.43  0.21  385.59  20.6  68.5\n",
              "2022-08-18 23:42:38    4.5   1.01  0.23  379.31  20.6  68.5\n",
              "2022-08-18 23:52:37    4.5  15.56  0.23  382.03  20.4  69.1"
            ],
            "text/html": [
              "\n",
              "  <div id=\"df-5c725a2b-6d3f-46ef-aa63-26c6dbfc8d51\">\n",
              "    <div class=\"colab-df-container\">\n",
              "      <div>\n",
              "<style scoped>\n",
              "    .dataframe tbody tr th:only-of-type {\n",
              "        vertical-align: middle;\n",
              "    }\n",
              "\n",
              "    .dataframe tbody tr th {\n",
              "        vertical-align: top;\n",
              "    }\n",
              "\n",
              "    .dataframe thead th {\n",
              "        text-align: right;\n",
              "    }\n",
              "</style>\n",
              "<table border=\"1\" class=\"dataframe\">\n",
              "  <thead>\n",
              "    <tr style=\"text-align: right;\">\n",
              "      <th></th>\n",
              "      <th>PM2.5</th>\n",
              "      <th>PM10</th>\n",
              "      <th>CO</th>\n",
              "      <th>CO2</th>\n",
              "      <th>TEMP</th>\n",
              "      <th>HUM</th>\n",
              "    </tr>\n",
              "    <tr>\n",
              "      <th>dt</th>\n",
              "      <th></th>\n",
              "      <th></th>\n",
              "      <th></th>\n",
              "      <th></th>\n",
              "      <th></th>\n",
              "      <th></th>\n",
              "    </tr>\n",
              "  </thead>\n",
              "  <tbody>\n",
              "    <tr>\n",
              "      <th>2022-08-18 23:12:37</th>\n",
              "      <td>4.5</td>\n",
              "      <td>12.90</td>\n",
              "      <td>0.26</td>\n",
              "      <td>389.93</td>\n",
              "      <td>20.8</td>\n",
              "      <td>68.1</td>\n",
              "    </tr>\n",
              "    <tr>\n",
              "      <th>2022-08-18 23:22:37</th>\n",
              "      <td>4.5</td>\n",
              "      <td>5.68</td>\n",
              "      <td>0.20</td>\n",
              "      <td>379.97</td>\n",
              "      <td>20.7</td>\n",
              "      <td>68.0</td>\n",
              "    </tr>\n",
              "    <tr>\n",
              "      <th>2022-08-18 23:32:37</th>\n",
              "      <td>4.5</td>\n",
              "      <td>15.43</td>\n",
              "      <td>0.21</td>\n",
              "      <td>385.59</td>\n",
              "      <td>20.6</td>\n",
              "      <td>68.5</td>\n",
              "    </tr>\n",
              "    <tr>\n",
              "      <th>2022-08-18 23:42:38</th>\n",
              "      <td>4.5</td>\n",
              "      <td>1.01</td>\n",
              "      <td>0.23</td>\n",
              "      <td>379.31</td>\n",
              "      <td>20.6</td>\n",
              "      <td>68.5</td>\n",
              "    </tr>\n",
              "    <tr>\n",
              "      <th>2022-08-18 23:52:37</th>\n",
              "      <td>4.5</td>\n",
              "      <td>15.56</td>\n",
              "      <td>0.23</td>\n",
              "      <td>382.03</td>\n",
              "      <td>20.4</td>\n",
              "      <td>69.1</td>\n",
              "    </tr>\n",
              "  </tbody>\n",
              "</table>\n",
              "</div>\n",
              "      <button class=\"colab-df-convert\" onclick=\"convertToInteractive('df-5c725a2b-6d3f-46ef-aa63-26c6dbfc8d51')\"\n",
              "              title=\"Convert this dataframe to an interactive table.\"\n",
              "              style=\"display:none;\">\n",
              "        \n",
              "  <svg xmlns=\"http://www.w3.org/2000/svg\" height=\"24px\"viewBox=\"0 0 24 24\"\n",
              "       width=\"24px\">\n",
              "    <path d=\"M0 0h24v24H0V0z\" fill=\"none\"/>\n",
              "    <path d=\"M18.56 5.44l.94 2.06.94-2.06 2.06-.94-2.06-.94-.94-2.06-.94 2.06-2.06.94zm-11 1L8.5 8.5l.94-2.06 2.06-.94-2.06-.94L8.5 2.5l-.94 2.06-2.06.94zm10 10l.94 2.06.94-2.06 2.06-.94-2.06-.94-.94-2.06-.94 2.06-2.06.94z\"/><path d=\"M17.41 7.96l-1.37-1.37c-.4-.4-.92-.59-1.43-.59-.52 0-1.04.2-1.43.59L10.3 9.45l-7.72 7.72c-.78.78-.78 2.05 0 2.83L4 21.41c.39.39.9.59 1.41.59.51 0 1.02-.2 1.41-.59l7.78-7.78 2.81-2.81c.8-.78.8-2.07 0-2.86zM5.41 20L4 18.59l7.72-7.72 1.47 1.35L5.41 20z\"/>\n",
              "  </svg>\n",
              "      </button>\n",
              "      \n",
              "  <style>\n",
              "    .colab-df-container {\n",
              "      display:flex;\n",
              "      flex-wrap:wrap;\n",
              "      gap: 12px;\n",
              "    }\n",
              "\n",
              "    .colab-df-convert {\n",
              "      background-color: #E8F0FE;\n",
              "      border: none;\n",
              "      border-radius: 50%;\n",
              "      cursor: pointer;\n",
              "      display: none;\n",
              "      fill: #1967D2;\n",
              "      height: 32px;\n",
              "      padding: 0 0 0 0;\n",
              "      width: 32px;\n",
              "    }\n",
              "\n",
              "    .colab-df-convert:hover {\n",
              "      background-color: #E2EBFA;\n",
              "      box-shadow: 0px 1px 2px rgba(60, 64, 67, 0.3), 0px 1px 3px 1px rgba(60, 64, 67, 0.15);\n",
              "      fill: #174EA6;\n",
              "    }\n",
              "\n",
              "    [theme=dark] .colab-df-convert {\n",
              "      background-color: #3B4455;\n",
              "      fill: #D2E3FC;\n",
              "    }\n",
              "\n",
              "    [theme=dark] .colab-df-convert:hover {\n",
              "      background-color: #434B5C;\n",
              "      box-shadow: 0px 1px 3px 1px rgba(0, 0, 0, 0.15);\n",
              "      filter: drop-shadow(0px 1px 2px rgba(0, 0, 0, 0.3));\n",
              "      fill: #FFFFFF;\n",
              "    }\n",
              "  </style>\n",
              "\n",
              "      <script>\n",
              "        const buttonEl =\n",
              "          document.querySelector('#df-5c725a2b-6d3f-46ef-aa63-26c6dbfc8d51 button.colab-df-convert');\n",
              "        buttonEl.style.display =\n",
              "          google.colab.kernel.accessAllowed ? 'block' : 'none';\n",
              "\n",
              "        async function convertToInteractive(key) {\n",
              "          const element = document.querySelector('#df-5c725a2b-6d3f-46ef-aa63-26c6dbfc8d51');\n",
              "          const dataTable =\n",
              "            await google.colab.kernel.invokeFunction('convertToInteractive',\n",
              "                                                     [key], {});\n",
              "          if (!dataTable) return;\n",
              "\n",
              "          const docLinkHtml = 'Like what you see? Visit the ' +\n",
              "            '<a target=\"_blank\" href=https://colab.research.google.com/notebooks/data_table.ipynb>data table notebook</a>'\n",
              "            + ' to learn more about interactive tables.';\n",
              "          element.innerHTML = '';\n",
              "          dataTable['output_type'] = 'display_data';\n",
              "          await google.colab.output.renderOutput(dataTable, element);\n",
              "          const docLink = document.createElement('div');\n",
              "          docLink.innerHTML = docLinkHtml;\n",
              "          element.appendChild(docLink);\n",
              "        }\n",
              "      </script>\n",
              "    </div>\n",
              "  </div>\n",
              "  "
            ]
          },
          "metadata": {},
          "execution_count": 8
        }
      ],
      "source": [
        "df_new.tail(5)"
      ]
    },
    {
      "cell_type": "code",
      "execution_count": null,
      "metadata": {
        "id": "YXi0QZrO8rUx"
      },
      "outputs": [],
      "source": [
        "# resampling so that the frequency becomes hourly and taking mean\n",
        "df_new = df_new.resample('H').mean()"
      ]
    },
    {
      "cell_type": "code",
      "execution_count": null,
      "metadata": {
        "colab": {
          "base_uri": "https://localhost:8080/",
          "height": 291
        },
        "id": "jwpmvzYqp6t1",
        "outputId": "0343ecd3-1898-4161-8ead-625aa32543fa"
      },
      "outputs": [
        {
          "output_type": "display_data",
          "data": {
            "text/plain": [
              "<Figure size 576x288 with 1 Axes>"
            ],
            "image/png": "[encoded data removed]"
          },
          "metadata": {
            "needs_background": "light"
          }
        }
      ],
      "source": [
        "df_new['PM10'].plot(figsize=(8,4), color=\"tab:blue\");\n",
        "df_new['PM2.5'].plot(figsize=(8,4), color=\"tab:red\");"
      ]
    },
    {
      "cell_type": "code",
      "execution_count": null,
      "metadata": {
        "colab": {
          "base_uri": "https://localhost:8080/"
        },
        "id": "4gFTMsMB85eP",
        "outputId": "5ff2fdcb-c05e-4871-fd07-ab8c363a2fef"
      },
      "outputs": [
        {
          "output_type": "execute_result",
          "data": {
            "text/plain": [
              "2208"
            ]
          },
          "metadata": {},
          "execution_count": 11
        }
      ],
      "source": [
        "len(df_new)"
      ]
    },
    {
      "cell_type": "code",
      "execution_count": null,
      "metadata": {
        "id": "IK8MFSS187Zq"
      },
      "outputs": [],
      "source": [
        "df_new_actual = df_new.copy()"
      ]
    },
    {
      "cell_type": "code",
      "execution_count": null,
      "metadata": {
        "colab": {
          "base_uri": "https://localhost:8080/"
        },
        "id": "UYw3Qu-o8__J",
        "outputId": "4049b77d-37d9-43ba-c51b-5eb2ccbeb39c"
      },
      "outputs": [
        {
          "output_type": "execute_result",
          "data": {
            "text/plain": [
              "PM2.5    471\n",
              "PM10     471\n",
              "CO       471\n",
              "CO2      471\n",
              "TEMP     471\n",
              "HUM      471\n",
              "dtype: int64"
            ]
          },
          "metadata": {},
          "execution_count": 13
        }
      ],
      "source": [
        "df_new_actual.isnull().sum()"
      ]
    },
    {
      "cell_type": "code",
      "execution_count": null,
      "metadata": {
        "id": "3bpEhXaS9E7o"
      },
      "outputs": [],
      "source": [
        "df_new_actual = df_new_actual.fillna(df_new_actual.mean())"
      ]
    },
    {
      "cell_type": "code",
      "execution_count": null,
      "metadata": {
        "colab": {
          "base_uri": "https://localhost:8080/"
        },
        "id": "7XJVyGEydSkX",
        "outputId": "e2258c61-be25-416d-9959-a11dfd778075"
      },
      "outputs": [
        {
          "output_type": "execute_result",
          "data": {
            "text/plain": [
              "(2208, 6)"
            ]
          },
          "metadata": {},
          "execution_count": 15
        }
      ],
      "source": [
        "df_new_actual.shape"
      ]
    },
    {
      "cell_type": "code",
      "execution_count": null,
      "metadata": {
        "colab": {
          "base_uri": "https://localhost:8080/",
          "height": 291
        },
        "id": "C5fywTdcc2Zb",
        "outputId": "d4f2297d-50be-46da-fc62-fcefa1662047"
      },
      "outputs": [
        {
          "output_type": "display_data",
          "data": {
            "text/plain": [
              "<Figure size 576x288 with 1 Axes>"
            ],
            "image/png": "[encoded data removed]"
          },
          "metadata": {
            "needs_background": "light"
          }
        }
      ],
      "source": [
        "df_new_actual['PM2.5'].plot(figsize=(8,4));\n",
        "df_new_actual['PM10'].plot(figsize=(8,4));"
      ]
    },
    {
      "cell_type": "code",
      "execution_count": null,
      "metadata": {
        "colab": {
          "base_uri": "https://localhost:8080/",
          "height": 265
        },
        "id": "TEQ4dRxvfjd_",
        "outputId": "3880a4ca-159f-48db-d2cb-460161a9ddeb"
      },
      "outputs": [
        {
          "output_type": "display_data",
          "data": {
            "text/plain": [
              "<Figure size 432x288 with 1 Axes>"
            ],
            "image/png": "[encoded data removed]"
          },
          "metadata": {
            "needs_background": "light"
          }
        }
      ],
      "source": [
        "X = df_new_actual.iloc[:,0:2].values\n",
        "diff = list()\n",
        "hours_in_the_period = 30\n",
        "for i in range(hours_in_the_period, len(X)):\n",
        "\tvalue = X[i] - X[i - hours_in_the_period]\n",
        "\tdiff.append(value)\n",
        "plt.plot(diff)\n",
        "plt.show()"
      ]
    },
    {
      "cell_type": "code",
      "execution_count": null,
      "metadata": {
        "colab": {
          "base_uri": "https://localhost:8080/",
          "height": 393
        },
        "id": "9PL_ZLdqt9Kn",
        "outputId": "76cf24bf-c62a-46f2-da59-19c755937609"
      },
      "outputs": [
        {
          "output_type": "stream",
          "name": "stdout",
          "text": [
            "               PM2.5      PM10\n",
            "dt                            \n",
            "2022-08-14  4.836935  5.944876\n",
            "2022-08-15  4.943959  6.405781\n",
            "2022-08-16  4.860729  6.639693\n",
            "2022-08-17  4.569643  5.253482\n",
            "2022-08-18  4.500000  5.986472\n"
          ]
        },
        {
          "output_type": "display_data",
          "data": {
            "text/plain": [
              "<Figure size 432x288 with 1 Axes>"
            ],
            "image/png": "[encoded data removed]"
          },
          "metadata": {
            "needs_background": "light"
          }
        }
      ],
      "source": [
        "X = df_new_actual.iloc[:,0:2]\n",
        "df_daily = X.resample('D')\n",
        "daily_mean = df_daily.mean()\n",
        "print(daily_mean.tail())\n",
        "diff1 = list()\n",
        "diff2 = list()\n",
        "days_in_month = 30\n",
        "for i in range(days_in_month, len(daily_mean)):\n",
        "  value1 = float(str(daily_mean.iloc[i:i+1,0:1]).split()[-1]) - float(str(daily_mean.iloc[i - days_in_month:i - days_in_month+1,0:1]).split()[-1])\n",
        "  value2 = float(str(daily_mean.iloc[i:i+1,1:2]).split()[-1]) - float(str(daily_mean.iloc[i - days_in_month:i - days_in_month+1,1:2]).split()[-1])\n",
        "  diff1.append(value1) \n",
        "  diff2.append(value2)\n",
        "plt.plot(diff1)\n",
        "plt.plot(diff2)\n",
        "plt.show()"
      ]
    },
    {
      "cell_type": "code",
      "execution_count": null,
      "metadata": {
        "colab": {
          "base_uri": "https://localhost:8080/",
          "height": 302
        },
        "id": "Vn7qBx3dYsjJ",
        "outputId": "9d581c6e-1794-4a9a-9223-ddacf4b63ef7"
      },
      "outputs": [
        {
          "output_type": "stream",
          "name": "stdout",
          "text": [
            "Coefficients: [[-3.88558922e-03  3.26061484e-03]\n",
            " [ 4.87343513e+00  6.12027259e+00]]\n"
          ]
        },
        {
          "output_type": "display_data",
          "data": {
            "text/plain": [
              "<Figure size 432x288 with 1 Axes>"
            ],
            "image/png": "[encoded data removed]"
          },
          "metadata": {
            "needs_background": "light"
          }
        }
      ],
      "source": [
        "# fit polynomial: x^2*b1 + x*b2 + ... + bn\n",
        "X = [i%24 for i in range(0, len(df_new_actual.iloc[:,0:1]))]\n",
        "y = df_new_actual.iloc[:,0:2].values\n",
        "degree = 1\n",
        "coef = polyfit(X, y, degree)\n",
        "print('Coefficients: %s' % coef)\n",
        "# create curve\n",
        "curve = list()\n",
        "for i in range(len(X)):\n",
        "\tvalue = coef[-1]\n",
        "\tfor d in range(degree):\n",
        "\t\tvalue += X[i]**(degree-d) * coef[d]\n",
        "\tcurve.append(value)\n",
        "# create seasonally adjusted\n",
        "value1 = df_new_actual.iloc[:,0:1].values\n",
        "diff = list()\n",
        "for i in range(len(value1)):\n",
        "\tvalue = value1[i] - curve[i]\n",
        "\tdiff.append(value)\n",
        "plt.plot(diff)\n",
        "plt.show()\n",
        "\n"
      ]
    },
    {
      "cell_type": "code",
      "execution_count": null,
      "metadata": {
        "colab": {
          "base_uri": "https://localhost:8080/"
        },
        "id": "6oeDQVpydi7I",
        "outputId": "eed071bc-83b9-4f9d-a664-5eb71d311194"
      },
      "outputs": [
        {
          "output_type": "stream",
          "name": "stdout",
          "text": [
            "Correlation between  PM2.5  and  PM10 is:  0.88\n",
            "Correlation between  PM2.5  and  PM2.5 is:  1.0\n",
            "Correlation between  PM10  and  PM2.5 is:  0.88\n",
            "Correlation between  PM10  and  PM10 is:  1.0\n"
          ]
        }
      ],
      "source": [
        "col1, col2 = \"PM2.5\", \"PM10\"\n",
        "corr = df_new_actual[col1].corr(df_new_actual[col2])\n",
        "print(\"Correlation between \", col1, \" and \", col2, \"is: \", round(corr, 2))\n",
        "\n",
        "col1, col2 = \"PM2.5\", \"PM2.5\"\n",
        "corr = df_new_actual[col1].corr(df_new_actual[col2])\n",
        "print( \"Correlation between \", col1, \" and \", col2, \"is: \", round(corr, 2))\n",
        "\n",
        "col1, col2 = \"PM10\", \"PM2.5\"\n",
        "corr = df_new_actual[col1].corr(df_new_actual[col2])\n",
        "print( \"Correlation between \", col1, \" and \", col2, \"is: \", round(corr, 2))\n",
        "\n",
        "col1, col2 = \"PM10\", \"PM10\"\n",
        "corr = df_new_actual[col1].corr(df_new_actual[col2])\n",
        "print( \"Correlation between \", col1, \" and \", col2, \"is: \", round(corr, 2))\n"
      ]
    },
    {
      "cell_type": "code",
      "execution_count": null,
      "metadata": {
        "colab": {
          "base_uri": "https://localhost:8080/"
        },
        "id": "oGuU5za29UbX",
        "outputId": "3431c8f6-81ea-449a-88de-0cfed149885b"
      },
      "outputs": [
        {
          "output_type": "stream",
          "name": "stdout",
          "text": [
            "Training set shape == (2208, 2)\n",
            "All timestamps == 2208\n",
            "Featured selected: ['PM2.5', 'PM10']\n"
          ]
        }
      ],
      "source": [
        "# Select features (columns) to be involved intro training and predictions\n",
        "cols = list(df_new.iloc[0:1,0:2])\n",
        "\n",
        "# Extract dates (will be used in visualization)\n",
        "datelist_train = list(df_new_actual.index)\n",
        "datelist_train = [date for date in datelist_train]\n",
        "\n",
        "print('Training set shape == {}'.format(df_new_actual.iloc[:,0:2].shape))\n",
        "print('All timestamps == {}'.format(len(datelist_train)))\n",
        "print('Featured selected: {}'.format(cols))"
      ]
    },
    {
      "cell_type": "code",
      "execution_count": null,
      "metadata": {
        "colab": {
          "base_uri": "https://localhost:8080/"
        },
        "id": "QNZMIKmq9X6L",
        "outputId": "62b023e4-39ab-464f-cc63-1f121db8abaf"
      },
      "outputs": [
        {
          "output_type": "execute_result",
          "data": {
            "text/plain": [
              "array([[-0.14496014],\n",
              "       [-0.14496014],\n",
              "       [-0.14496014],\n",
              "       ...,\n",
              "       [-0.14496014],\n",
              "       [-0.14496014],\n",
              "       [-0.14496014]])"
            ]
          },
          "metadata": {},
          "execution_count": 22
        }
      ],
      "source": [
        "# Feature Scaling\n",
        "from sklearn.preprocessing import StandardScaler\n",
        "training_set = df_new_actual[cols]\n",
        "sc = StandardScaler()\n",
        "training_set_scaled = sc.fit_transform(training_set)\n",
        "\n",
        "sc_predict = StandardScaler()\n",
        "sc_predict.fit_transform(training_set.iloc[:,0:1])"
      ]
    },
    {
      "cell_type": "code",
      "source": [
        "print(training_set.describe())\n",
        "training_set.hist()"
      ],
      "metadata": {
        "colab": {
          "base_uri": "https://localhost:8080/",
          "height": 500
        },
        "id": "uoBSAocSwUbI",
        "outputId": "7062b8e4-ad09-4449-8814-4d37fa25b594"
      },
      "execution_count": null,
      "outputs": [
        {
          "output_type": "stream",
          "name": "stdout",
          "text": [
            "             PM2.5         PM10\n",
            "count  2208.000000  2208.000000\n",
            "mean      4.828751     6.157770\n",
            "std       2.268384     3.680193\n",
            "min       3.375000     0.885000\n",
            "25%       4.500000     4.697500\n",
            "50%       4.500000     6.157770\n",
            "75%       4.500000     6.557500\n",
            "max      68.700000    91.600000\n"
          ]
        },
        {
          "output_type": "execute_result",
          "data": {
            "text/plain": [
              "array([[<matplotlib.axes._subplots.AxesSubplot object at 0x7fafb680a3d0>,\n",
              "        <matplotlib.axes._subplots.AxesSubplot object at 0x7fafb6827090>]],\n",
              "      dtype=object)"
            ]
          },
          "metadata": {},
          "execution_count": 25
        },
        {
          "output_type": "display_data",
          "data": {
            "text/plain": [
              "<Figure size 432x288 with 2 Axes>"
            ],
            "image/png": "[encoded data removed]"
          },
          "metadata": {
            "needs_background": "light"
          }
        }
      ]
    },
    {
      "cell_type": "code",
      "execution_count": null,
      "metadata": {
        "id": "IFnh2SBLR8D4"
      },
      "outputs": [],
      "source": [
        "%load_ext tensorboard"
      ]
    },
    {
      "cell_type": "code",
      "execution_count": null,
      "metadata": {
        "id": "dMQJRxn6SnPb"
      },
      "outputs": [],
      "source": [
        "log_folder= 'logs'\n",
        "%reload_ext tensorboard"
      ]
    },
    {
      "cell_type": "code",
      "execution_count": null,
      "metadata": {
        "colab": {
          "base_uri": "https://localhost:8080/"
        },
        "id": "_B2kLPRjllGZ",
        "outputId": "a7b75e96-e07a-4532-c4c3-1a59dfaff3d2"
      },
      "outputs": [
        {
          "data": {
            "text/plain": [
              "PM2.5      0.383692\n",
              "PM10       6.157770\n",
              "CO         0.233172\n",
              "CO2      394.616480\n",
              "TEMP      25.266942\n",
              "HUM       77.634191\n",
              "dtype: float64"
            ]
          },
          "execution_count": 24,
          "metadata": {},
          "output_type": "execute_result"
        }
      ],
      "source": [
        "df_new_actual.mean()"
      ]
    },
    {
      "cell_type": "code",
      "execution_count": null,
      "metadata": {
        "colab": {
          "base_uri": "https://localhost:8080/"
        },
        "id": "tjlT_PJZ9cl4",
        "outputId": "8ca8083a-3a6f-4689-ccb5-3503fbfabf69"
      },
      "outputs": [
        {
          "name": "stdout",
          "output_type": "stream",
          "text": [
            "X_train shape == (2106, 96, 2).\n",
            "y_train shape == (2106, 1).\n"
          ]
        }
      ],
      "source": [
        "# Creating a data structure with 21 days timestamps and 1 output\n",
        "X_train = []\n",
        "y_train = []\n",
        "\n",
        "n_future = 7   # Number of days we want top predict into the future\n",
        "n_past = 96    # Number of past days we want to use to predict the future\n",
        "\n",
        "for i in range(n_past, len(training_set_scaled) - n_future +1):\n",
        "    X_train.append(training_set_scaled[i - n_past:i, 0:df_new.shape[0]])\n",
        "    y_train.append(training_set_scaled[i + n_future - 1:i + n_future, 0])\n",
        "\n",
        "X_train, y_train = np.array(X_train), np.array(y_train)\n",
        "\n",
        "print('X_train shape == {}.'.format(X_train.shape))\n",
        "print('y_train shape == {}.'.format(y_train.shape))"
      ]
    },
    {
      "cell_type": "code",
      "execution_count": null,
      "metadata": {
        "id": "xMFvEO_G9i6z"
      },
      "outputs": [],
      "source": [
        "model = tf.keras.models.Sequential([\n",
        "  tf.keras.layers.Conv1D(filters=32, kernel_size=2,\n",
        "                      padding=\"causal\",strides=1,\n",
        "                      activation='relu',\n",
        "                      input_shape=[None, 2]),\n",
        "  tf.keras.layers.Conv1D(filters=32, kernel_size=2,\n",
        "                      padding=\"causal\",strides=1,\n",
        "                      activation='relu',\n",
        "                      input_shape=[None, 2]),\n",
        "  tf.keras.layers.MaxPool1D(),\n",
        "  tf.keras.layers.Bidirectional(tf.keras.layers.LSTM(32, return_sequences=True)),\n",
        "  tf.keras.layers.LSTM(64,return_sequences=True),\n",
        "])\n",
        "model.add(tf.keras.layers.Bidirectional(tf.keras.layers.LSTM(32, return_sequences=False)))\n",
        "model.add(tf.keras.layers.Dense(1))\n",
        "model.add(tf.keras.layers.Dense(1))\n",
        "model.add(tf.keras.layers.Lambda(lambda x: x * 200))\n",
        "\n",
        "optimizer = keras.optimizers.SGD(learning_rate=1.5*1e-5,momentum=0.95)\n",
        "model.compile(loss=tf.keras.losses.Huber(),\n",
        "             optimizer=optimizer,\n",
        "             metrics=['mse','accuracy'])\n",
        "from keras import backend as K\n",
        "#def root_mean_squared_error(y_true, y_pred):\n",
        "#        return K.sqrt(K.mean(K.square(y_pred - y_true), axis=-1)) \n",
        "#model.compile(optimizer = \"rmsprop\", loss = root_mean_squared_error, metrics =[\"accuracy\"])\n"
      ]
    },
    {
      "cell_type": "code",
      "execution_count": null,
      "metadata": {
        "colab": {
          "base_uri": "https://localhost:8080/"
        },
        "id": "7Fs9PSGN9p65",
        "outputId": "afc580f2-bb40-4745-c092-8de3725eb359"
      },
      "outputs": [
        {
          "name": "stdout",
          "output_type": "stream",
          "text": [
            "Model: \"sequential_18\"\n",
            "_________________________________________________________________\n",
            " Layer (type)                Output Shape              Param #   \n",
            "=================================================================\n",
            " conv1d_37 (Conv1D)          (None, None, 32)          160       \n",
            "                                                                 \n",
            " conv1d_38 (Conv1D)          (None, None, 32)          2080      \n",
            "                                                                 \n",
            " max_pooling1d_18 (MaxPoolin  (None, None, 32)         0         \n",
            " g1D)                                                            \n",
            "                                                                 \n",
            " bidirectional_32 (Bidirecti  (None, None, 64)         16640     \n",
            " onal)                                                           \n",
            "                                                                 \n",
            " lstm_48 (LSTM)              (None, None, 64)          33024     \n",
            "                                                                 \n",
            " bidirectional_33 (Bidirecti  (None, 64)               24832     \n",
            " onal)                                                           \n",
            "                                                                 \n",
            " dense_32 (Dense)            (None, 1)                 65        \n",
            "                                                                 \n",
            " dense_33 (Dense)            (None, 1)                 2         \n",
            "                                                                 \n",
            " lambda_16 (Lambda)          (None, 1)                 0         \n",
            "                                                                 \n",
            "=================================================================\n",
            "Total params: 76,803\n",
            "Trainable params: 76,803\n",
            "Non-trainable params: 0\n",
            "_________________________________________________________________\n"
          ]
        }
      ],
      "source": [
        "model.summary()"
      ]
    },
    {
      "cell_type": "code",
      "execution_count": null,
      "metadata": {
        "id": "mRc_OX3cUM8p"
      },
      "outputs": [],
      "source": [
        "callbacks = [TensorBoard(log_dir=log_folder, histogram_freq=1, \n",
        " write_graph=True, write_images=True,     \n",
        " update_freq='epoch', profile_batch=2)]"
      ]
    },
    {
      "cell_type": "code",
      "execution_count": null,
      "metadata": {
        "colab": {
          "background_save": true,
          "base_uri": "https://localhost:8080/"
        },
        "id": "VSrQzCIE9u3V",
        "outputId": "ddd15590-d95b-4141-c2af-b9d8345242b9"
      },
      "outputs": [
        {
          "name": "stdout",
          "output_type": "stream",
          "text": [
            "Epoch 1/100\n",
            "53/53 [==============================] - 20s 171ms/step - loss: 0.1440 - mse: 1.0831 - accuracy: 0.2280 - val_loss: 0.1968 - val_mse: 1.2550 - val_accuracy: 0.1540\n",
            "Epoch 2/100\n",
            "53/53 [==============================] - 6s 108ms/step - loss: 0.1392 - mse: 1.0749 - accuracy: 0.2286 - val_loss: 0.1778 - val_mse: 1.2306 - val_accuracy: 0.1540\n",
            "Epoch 3/100\n",
            "53/53 [==============================] - 6s 110ms/step - loss: 0.1266 - mse: 1.0550 - accuracy: 0.2381 - val_loss: 0.1583 - val_mse: 1.2520 - val_accuracy: 0.1588\n",
            "Epoch 4/100\n",
            "53/53 [==============================] - 6s 105ms/step - loss: 0.1178 - mse: 1.0358 - accuracy: 0.2399 - val_loss: 0.1549 - val_mse: 1.2259 - val_accuracy: 0.1588\n",
            "Epoch 5/100\n",
            "53/53 [==============================] - 5s 103ms/step - loss: 0.1177 - mse: 1.0381 - accuracy: 0.2393 - val_loss: 0.1616 - val_mse: 1.2745 - val_accuracy: 0.1588\n",
            "Epoch 6/100\n",
            "53/53 [==============================] - 6s 107ms/step - loss: 0.1155 - mse: 1.0242 - accuracy: 0.2399 - val_loss: 0.1539 - val_mse: 1.2391 - val_accuracy: 0.1588\n",
            "Epoch 7/100\n",
            "53/53 [==============================] - 6s 109ms/step - loss: 0.1192 - mse: 1.0371 - accuracy: 0.2393 - val_loss: 0.1514 - val_mse: 1.2179 - val_accuracy: 0.1588\n",
            "Epoch 8/100\n",
            "53/53 [==============================] - 6s 109ms/step - loss: 0.1152 - mse: 1.0292 - accuracy: 0.2399 - val_loss: 0.1515 - val_mse: 1.2293 - val_accuracy: 0.1588\n",
            "Epoch 9/100\n",
            "53/53 [==============================] - 6s 106ms/step - loss: 0.1140 - mse: 1.0251 - accuracy: 0.2399 - val_loss: 0.1600 - val_mse: 1.1998 - val_accuracy: 0.1588\n",
            "Epoch 10/100\n",
            "53/53 [==============================] - 6s 106ms/step - loss: 0.1177 - mse: 1.0400 - accuracy: 0.2399 - val_loss: 0.1581 - val_mse: 1.2648 - val_accuracy: 0.1588\n",
            "Epoch 11/100\n",
            "53/53 [==============================] - 6s 109ms/step - loss: 0.1203 - mse: 1.0470 - accuracy: 0.2393 - val_loss: 0.1526 - val_mse: 1.2409 - val_accuracy: 0.1588\n",
            "Epoch 12/100\n",
            "53/53 [==============================] - 6s 116ms/step - loss: 0.1147 - mse: 1.0319 - accuracy: 0.2399 - val_loss: 0.1566 - val_mse: 1.2592 - val_accuracy: 0.1588\n",
            "Epoch 13/100\n",
            "53/53 [==============================] - 6s 108ms/step - loss: 0.1111 - mse: 1.0182 - accuracy: 0.2399 - val_loss: 0.1480 - val_mse: 1.2082 - val_accuracy: 0.1588\n",
            "Epoch 14/100\n",
            "53/53 [==============================] - 6s 108ms/step - loss: 0.1101 - mse: 1.0200 - accuracy: 0.2399 - val_loss: 0.1480 - val_mse: 1.2014 - val_accuracy: 0.1588\n",
            "Epoch 15/100\n",
            "53/53 [==============================] - 6s 107ms/step - loss: 0.1131 - mse: 1.0252 - accuracy: 0.2399 - val_loss: 0.1507 - val_mse: 1.1923 - val_accuracy: 0.1588\n",
            "Epoch 16/100\n",
            "53/53 [==============================] - 6s 106ms/step - loss: 0.1203 - mse: 1.0367 - accuracy: 0.2399 - val_loss: 0.1555 - val_mse: 1.1900 - val_accuracy: 0.1588\n",
            "Epoch 17/100\n",
            "53/53 [==============================] - 6s 106ms/step - loss: 0.1105 - mse: 1.0222 - accuracy: 0.2399 - val_loss: 0.1469 - val_mse: 1.2096 - val_accuracy: 0.1588\n",
            "Epoch 18/100\n",
            "53/53 [==============================] - 6s 113ms/step - loss: 0.1099 - mse: 1.0209 - accuracy: 0.2399 - val_loss: 0.1485 - val_mse: 1.1916 - val_accuracy: 0.1588\n",
            "Epoch 19/100\n",
            "53/53 [==============================] - 6s 107ms/step - loss: 0.1101 - mse: 1.0163 - accuracy: 0.2399 - val_loss: 0.1508 - val_mse: 1.2364 - val_accuracy: 0.1588\n",
            "Epoch 20/100\n",
            "53/53 [==============================] - 6s 104ms/step - loss: 0.1109 - mse: 1.0232 - accuracy: 0.2399 - val_loss: 0.1581 - val_mse: 1.1875 - val_accuracy: 0.1588\n",
            "Epoch 21/100\n",
            "53/53 [==============================] - 6s 106ms/step - loss: 0.1203 - mse: 1.0401 - accuracy: 0.2399 - val_loss: 0.1496 - val_mse: 1.1872 - val_accuracy: 0.1588\n",
            "Epoch 22/100\n",
            "53/53 [==============================] - 6s 108ms/step - loss: 0.1103 - mse: 1.0206 - accuracy: 0.2399 - val_loss: 0.1464 - val_mse: 1.1930 - val_accuracy: 0.1588\n",
            "Epoch 23/100\n",
            "53/53 [==============================] - 6s 112ms/step - loss: 0.1116 - mse: 1.0231 - accuracy: 0.2399 - val_loss: 0.1502 - val_mse: 1.2344 - val_accuracy: 0.1588\n",
            "Epoch 24/100\n",
            "53/53 [==============================] - 6s 105ms/step - loss: 0.1088 - mse: 1.0167 - accuracy: 0.2399 - val_loss: 0.1454 - val_mse: 1.1977 - val_accuracy: 0.1588\n",
            "Epoch 25/100\n",
            "53/53 [==============================] - 6s 108ms/step - loss: 0.1086 - mse: 1.0209 - accuracy: 0.2399 - val_loss: 0.1500 - val_mse: 1.2339 - val_accuracy: 0.1588\n",
            "Epoch 26/100\n",
            "53/53 [==============================] - 6s 106ms/step - loss: 0.1122 - mse: 1.0184 - accuracy: 0.2399 - val_loss: 0.1451 - val_mse: 1.1992 - val_accuracy: 0.1588\n",
            "Epoch 27/100\n",
            "53/53 [==============================] - 6s 116ms/step - loss: 0.1115 - mse: 1.0272 - accuracy: 0.2399 - val_loss: 0.1478 - val_mse: 1.2233 - val_accuracy: 0.1588\n",
            "Epoch 28/100\n",
            "53/53 [==============================] - 6s 109ms/step - loss: 0.1115 - mse: 1.0240 - accuracy: 0.2399 - val_loss: 0.1465 - val_mse: 1.2158 - val_accuracy: 0.1588\n",
            "Epoch 29/100\n",
            "53/53 [==============================] - 6s 113ms/step - loss: 0.1086 - mse: 1.0182 - accuracy: 0.2399 - val_loss: 0.1476 - val_mse: 1.2225 - val_accuracy: 0.1588\n",
            "Epoch 30/100\n",
            "53/53 [==============================] - 6s 108ms/step - loss: 0.1119 - mse: 1.0229 - accuracy: 0.2399 - val_loss: 0.1531 - val_mse: 1.2474 - val_accuracy: 0.1588\n",
            "Epoch 31/100\n",
            "53/53 [==============================] - 7s 127ms/step - loss: 0.1109 - mse: 1.0246 - accuracy: 0.2399 - val_loss: 0.1506 - val_mse: 1.2372 - val_accuracy: 0.1588\n",
            "Epoch 32/100\n",
            "53/53 [==============================] - 6s 115ms/step - loss: 0.1099 - mse: 1.0166 - accuracy: 0.2399 - val_loss: 0.1491 - val_mse: 1.2305 - val_accuracy: 0.1588\n",
            "Epoch 33/100\n",
            "53/53 [==============================] - 6s 107ms/step - loss: 0.1129 - mse: 1.0230 - accuracy: 0.2399 - val_loss: 0.1517 - val_mse: 1.2416 - val_accuracy: 0.1588\n",
            "Epoch 34/100\n",
            "53/53 [==============================] - 6s 107ms/step - loss: 0.1092 - mse: 1.0194 - accuracy: 0.2399 - val_loss: 0.1558 - val_mse: 1.2577 - val_accuracy: 0.1588\n",
            "Epoch 35/100\n",
            "53/53 [==============================] - 6s 105ms/step - loss: 0.1087 - mse: 1.0213 - accuracy: 0.2399 - val_loss: 0.1518 - val_mse: 1.2419 - val_accuracy: 0.1588\n",
            "Epoch 36/100\n",
            "53/53 [==============================] - 6s 107ms/step - loss: 0.1084 - mse: 1.0119 - accuracy: 0.2399 - val_loss: 0.1442 - val_mse: 1.1914 - val_accuracy: 0.1588\n",
            "Epoch 37/100\n",
            "53/53 [==============================] - 6s 108ms/step - loss: 0.1099 - mse: 1.0182 - accuracy: 0.2399 - val_loss: 0.1443 - val_mse: 1.1905 - val_accuracy: 0.1588\n",
            "Epoch 38/100\n",
            "53/53 [==============================] - 6s 107ms/step - loss: 0.1095 - mse: 1.0205 - accuracy: 0.2399 - val_loss: 0.1441 - val_mse: 1.1986 - val_accuracy: 0.1588\n",
            "Epoch 39/100\n",
            "53/53 [==============================] - 6s 114ms/step - loss: 0.1088 - mse: 1.0238 - accuracy: 0.2399 - val_loss: 0.1457 - val_mse: 1.2126 - val_accuracy: 0.1588\n",
            "Epoch 40/100\n",
            "53/53 [==============================] - 5s 103ms/step - loss: 0.1083 - mse: 1.0188 - accuracy: 0.2399 - val_loss: 0.1461 - val_mse: 1.2156 - val_accuracy: 0.1588\n",
            "Epoch 41/100\n",
            "53/53 [==============================] - 6s 105ms/step - loss: 0.1086 - mse: 1.0205 - accuracy: 0.2399 - val_loss: 0.1457 - val_mse: 1.2127 - val_accuracy: 0.1588\n",
            "Epoch 42/100\n",
            "53/53 [==============================] - 6s 114ms/step - loss: 0.1104 - mse: 1.0230 - accuracy: 0.2399 - val_loss: 0.1438 - val_mse: 1.1920 - val_accuracy: 0.1588\n",
            "Epoch 43/100\n",
            "53/53 [==============================] - 6s 105ms/step - loss: 0.1074 - mse: 1.0151 - accuracy: 0.2399 - val_loss: 0.1463 - val_mse: 1.1803 - val_accuracy: 0.1588\n",
            "Epoch 44/100\n",
            "53/53 [==============================] - 6s 104ms/step - loss: 0.1080 - mse: 1.0123 - accuracy: 0.2399 - val_loss: 0.1440 - val_mse: 1.1869 - val_accuracy: 0.1588\n",
            "Epoch 45/100\n",
            "53/53 [==============================] - 6s 106ms/step - loss: 0.1076 - mse: 1.0162 - accuracy: 0.2399 - val_loss: 0.1483 - val_mse: 1.1779 - val_accuracy: 0.1588\n",
            "Epoch 46/100\n",
            "53/53 [==============================] - 6s 114ms/step - loss: 0.1124 - mse: 1.0232 - accuracy: 0.2399 - val_loss: 0.1436 - val_mse: 1.1917 - val_accuracy: 0.1588\n",
            "Epoch 47/100\n",
            "53/53 [==============================] - 6s 107ms/step - loss: 0.1114 - mse: 1.0284 - accuracy: 0.2399 - val_loss: 0.1441 - val_mse: 1.2018 - val_accuracy: 0.1588\n",
            "Epoch 48/100\n",
            "53/53 [==============================] - 6s 109ms/step - loss: 0.1101 - mse: 1.0241 - accuracy: 0.2399 - val_loss: 0.1462 - val_mse: 1.1794 - val_accuracy: 0.1588\n",
            "Epoch 49/100\n",
            "53/53 [==============================] - 6s 105ms/step - loss: 0.1080 - mse: 1.0164 - accuracy: 0.2399 - val_loss: 0.1521 - val_mse: 1.2428 - val_accuracy: 0.1588\n",
            "Epoch 50/100\n",
            "53/53 [==============================] - 6s 107ms/step - loss: 0.1101 - mse: 1.0256 - accuracy: 0.2399 - val_loss: 0.1450 - val_mse: 1.2092 - val_accuracy: 0.1588\n",
            "Epoch 51/100\n",
            "53/53 [==============================] - 6s 113ms/step - loss: 0.1100 - mse: 1.0257 - accuracy: 0.2399 - val_loss: 0.1439 - val_mse: 1.2008 - val_accuracy: 0.1588\n",
            "Epoch 52/100\n",
            "53/53 [==============================] - 6s 104ms/step - loss: 0.1100 - mse: 1.0239 - accuracy: 0.2399 - val_loss: 0.1579 - val_mse: 1.2647 - val_accuracy: 0.1588\n",
            "Epoch 53/100\n",
            "53/53 [==============================] - 6s 112ms/step - loss: 0.1086 - mse: 1.0204 - accuracy: 0.2399 - val_loss: 0.1464 - val_mse: 1.2174 - val_accuracy: 0.1588\n",
            "Epoch 54/100\n",
            "53/53 [==============================] - 6s 106ms/step - loss: 0.1070 - mse: 1.0140 - accuracy: 0.2399 - val_loss: 0.1438 - val_mse: 1.2008 - val_accuracy: 0.1588\n",
            "Epoch 55/100\n",
            "53/53 [==============================] - 6s 106ms/step - loss: 0.1085 - mse: 1.0208 - accuracy: 0.2399 - val_loss: 0.1454 - val_mse: 1.2121 - val_accuracy: 0.1588\n",
            "Epoch 56/100\n",
            "53/53 [==============================] - 6s 108ms/step - loss: 0.1086 - mse: 1.0209 - accuracy: 0.2399 - val_loss: 0.1458 - val_mse: 1.2143 - val_accuracy: 0.1588\n",
            "Epoch 57/100\n",
            "53/53 [==============================] - 6s 107ms/step - loss: 0.1096 - mse: 1.0169 - accuracy: 0.2399 - val_loss: 0.1488 - val_mse: 1.2295 - val_accuracy: 0.1588\n",
            "Epoch 58/100\n",
            "53/53 [==============================] - 6s 114ms/step - loss: 0.1189 - mse: 1.0446 - accuracy: 0.2399 - val_loss: 0.1485 - val_mse: 1.2279 - val_accuracy: 0.1588\n",
            "Epoch 59/100\n",
            "53/53 [==============================] - 6s 107ms/step - loss: 0.1160 - mse: 1.0445 - accuracy: 0.2399 - val_loss: 0.1433 - val_mse: 1.1961 - val_accuracy: 0.1588\n",
            "Epoch 60/100\n",
            "53/53 [==============================] - 6s 107ms/step - loss: 0.1070 - mse: 1.0193 - accuracy: 0.2399 - val_loss: 0.1432 - val_mse: 1.1857 - val_accuracy: 0.1588\n",
            "Epoch 61/100\n",
            "53/53 [==============================] - 6s 114ms/step - loss: 0.1136 - mse: 1.0306 - accuracy: 0.2399 - val_loss: 0.1474 - val_mse: 1.1756 - val_accuracy: 0.1588\n",
            "Epoch 62/100\n",
            "53/53 [==============================] - 6s 108ms/step - loss: 0.1083 - mse: 1.0192 - accuracy: 0.2399 - val_loss: 0.1459 - val_mse: 1.1769 - val_accuracy: 0.1588\n",
            "Epoch 63/100\n",
            "53/53 [==============================] - 6s 108ms/step - loss: 0.1096 - mse: 1.0231 - accuracy: 0.2399 - val_loss: 0.1482 - val_mse: 1.1749 - val_accuracy: 0.1588\n",
            "Epoch 64/100\n",
            "53/53 [==============================] - 6s 108ms/step - loss: 0.1158 - mse: 1.0381 - accuracy: 0.2399 - val_loss: 0.1603 - val_mse: 1.1786 - val_accuracy: 0.1588\n",
            "Epoch 65/100\n",
            "53/53 [==============================] - 6s 111ms/step - loss: 0.1128 - mse: 1.0262 - accuracy: 0.2399 - val_loss: 0.1460 - val_mse: 1.2160 - val_accuracy: 0.1588\n",
            "Epoch 66/100\n",
            "53/53 [==============================] - 6s 122ms/step - loss: 0.1080 - mse: 1.0191 - accuracy: 0.2399 - val_loss: 0.1447 - val_mse: 1.1784 - val_accuracy: 0.1588\n",
            "Epoch 67/100\n",
            "53/53 [==============================] - 6s 109ms/step - loss: 0.1099 - mse: 1.0284 - accuracy: 0.2399 - val_loss: 0.1566 - val_mse: 1.1760 - val_accuracy: 0.1588\n",
            "Epoch 68/100\n",
            "53/53 [==============================] - 6s 109ms/step - loss: 0.1131 - mse: 1.0325 - accuracy: 0.2399 - val_loss: 0.1430 - val_mse: 1.1940 - val_accuracy: 0.1588\n",
            "Epoch 69/100\n",
            "53/53 [==============================] - 6s 114ms/step - loss: 0.1080 - mse: 1.0194 - accuracy: 0.2399 - val_loss: 0.1431 - val_mse: 1.1955 - val_accuracy: 0.1588\n",
            "Epoch 70/100\n",
            "53/53 [==============================] - 6s 108ms/step - loss: 0.1065 - mse: 1.0178 - accuracy: 0.2399 - val_loss: 0.1497 - val_mse: 1.2331 - val_accuracy: 0.1588\n",
            "Epoch 71/100\n",
            "53/53 [==============================] - 6s 109ms/step - loss: 0.1064 - mse: 1.0111 - accuracy: 0.2399 - val_loss: 0.1428 - val_mse: 1.1889 - val_accuracy: 0.1588\n",
            "Epoch 72/100\n",
            "53/53 [==============================] - 6s 108ms/step - loss: 0.1085 - mse: 1.0240 - accuracy: 0.2399 - val_loss: 0.1532 - val_mse: 1.2473 - val_accuracy: 0.1588\n",
            "Epoch 73/100\n",
            "53/53 [==============================] - 6s 109ms/step - loss: 0.1087 - mse: 1.0250 - accuracy: 0.2399 - val_loss: 0.1433 - val_mse: 1.1821 - val_accuracy: 0.1588\n",
            "Epoch 74/100\n",
            "53/53 [==============================] - 6s 110ms/step - loss: 0.1072 - mse: 1.0112 - accuracy: 0.2399 - val_loss: 0.1553 - val_mse: 1.1748 - val_accuracy: 0.1588\n",
            "Epoch 75/100\n",
            "53/53 [==============================] - 6s 107ms/step - loss: 0.1073 - mse: 1.0155 - accuracy: 0.2399 - val_loss: 0.1438 - val_mse: 1.2030 - val_accuracy: 0.1588\n",
            "Epoch 76/100\n",
            "53/53 [==============================] - 6s 107ms/step - loss: 0.1079 - mse: 1.0175 - accuracy: 0.2399 - val_loss: 0.1461 - val_mse: 1.2167 - val_accuracy: 0.1588\n",
            "Epoch 77/100\n",
            "53/53 [==============================] - 6s 108ms/step - loss: 0.1062 - mse: 1.0160 - accuracy: 0.2399 - val_loss: 0.1427 - val_mse: 1.1889 - val_accuracy: 0.1588\n",
            "Epoch 78/100\n",
            "53/53 [==============================] - 6s 107ms/step - loss: 0.1068 - mse: 1.0182 - accuracy: 0.2399 - val_loss: 0.1447 - val_mse: 1.2091 - val_accuracy: 0.1588\n",
            "Epoch 79/100\n",
            "53/53 [==============================] - 6s 108ms/step - loss: 0.1073 - mse: 1.0141 - accuracy: 0.2399 - val_loss: 0.1448 - val_mse: 1.2094 - val_accuracy: 0.1588\n",
            "Epoch 80/100\n",
            "53/53 [==============================] - 6s 114ms/step - loss: 0.1064 - mse: 1.0159 - accuracy: 0.2399 - val_loss: 0.1427 - val_mse: 1.1849 - val_accuracy: 0.1588\n",
            "Epoch 81/100\n",
            "53/53 [==============================] - 6s 105ms/step - loss: 0.1128 - mse: 1.0374 - accuracy: 0.2399 - val_loss: 0.1527 - val_mse: 1.1731 - val_accuracy: 0.1588\n",
            "Epoch 82/100\n",
            "53/53 [==============================] - 6s 104ms/step - loss: 0.1076 - mse: 1.0161 - accuracy: 0.2399 - val_loss: 0.1427 - val_mse: 1.1920 - val_accuracy: 0.1588\n",
            "Epoch 83/100\n",
            "53/53 [==============================] - 6s 106ms/step - loss: 0.1065 - mse: 1.0165 - accuracy: 0.2399 - val_loss: 0.1439 - val_mse: 1.2041 - val_accuracy: 0.1588\n",
            "Epoch 84/100\n",
            "53/53 [==============================] - 6s 106ms/step - loss: 0.1070 - mse: 1.0171 - accuracy: 0.2399 - val_loss: 0.1474 - val_mse: 1.1732 - val_accuracy: 0.1588\n",
            "Epoch 85/100\n",
            "53/53 [==============================] - 6s 113ms/step - loss: 0.1075 - mse: 1.0215 - accuracy: 0.2399 - val_loss: 0.1432 - val_mse: 1.1805 - val_accuracy: 0.1588\n",
            "Epoch 86/100\n",
            "53/53 [==============================] - 6s 108ms/step - loss: 0.1069 - mse: 1.0150 - accuracy: 0.2399 - val_loss: 0.1426 - val_mse: 1.1880 - val_accuracy: 0.1588\n",
            "Epoch 87/100\n",
            "53/53 [==============================] - 5s 102ms/step - loss: 0.1096 - mse: 1.0165 - accuracy: 0.2399 - val_loss: 0.1568 - val_mse: 1.2598 - val_accuracy: 0.1588\n",
            "Epoch 88/100\n",
            "53/53 [==============================] - 6s 105ms/step - loss: 0.1174 - mse: 1.0384 - accuracy: 0.2399 - val_loss: 0.1512 - val_mse: 1.2391 - val_accuracy: 0.1588\n",
            "Epoch 89/100\n",
            "53/53 [==============================] - 6s 106ms/step - loss: 0.1093 - mse: 1.0160 - accuracy: 0.2399 - val_loss: 0.1446 - val_mse: 1.2088 - val_accuracy: 0.1588\n",
            "Epoch 90/100\n",
            "53/53 [==============================] - 6s 106ms/step - loss: 0.1078 - mse: 1.0201 - accuracy: 0.2399 - val_loss: 0.1514 - val_mse: 1.1722 - val_accuracy: 0.1588\n",
            "Epoch 91/100\n",
            "53/53 [==============================] - 6s 105ms/step - loss: 0.1090 - mse: 1.0190 - accuracy: 0.2399 - val_loss: 0.1432 - val_mse: 1.1795 - val_accuracy: 0.1588\n",
            "Epoch 92/100\n",
            "53/53 [==============================] - 6s 106ms/step - loss: 0.1065 - mse: 1.0165 - accuracy: 0.2399 - val_loss: 0.1425 - val_mse: 1.1849 - val_accuracy: 0.1588\n",
            "Epoch 93/100\n",
            "53/53 [==============================] - 6s 105ms/step - loss: 0.1060 - mse: 1.0157 - accuracy: 0.2399 - val_loss: 0.1478 - val_mse: 1.2249 - val_accuracy: 0.1588\n",
            "Epoch 94/100\n",
            "53/53 [==============================] - 6s 107ms/step - loss: 0.1093 - mse: 1.0206 - accuracy: 0.2399 - val_loss: 0.1567 - val_mse: 1.2598 - val_accuracy: 0.1588\n",
            "Epoch 95/100\n",
            "53/53 [==============================] - 6s 108ms/step - loss: 0.1122 - mse: 1.0291 - accuracy: 0.2399 - val_loss: 0.1428 - val_mse: 1.1811 - val_accuracy: 0.1588\n",
            "Epoch 96/100\n",
            "53/53 [==============================] - 6s 107ms/step - loss: 0.1069 - mse: 1.0167 - accuracy: 0.2399 - val_loss: 0.1428 - val_mse: 1.1816 - val_accuracy: 0.1588\n",
            "Epoch 97/100\n",
            "53/53 [==============================] - 6s 107ms/step - loss: 0.1061 - mse: 1.0160 - accuracy: 0.2399 - val_loss: 0.1425 - val_mse: 1.1842 - val_accuracy: 0.1588\n",
            "Epoch 98/100\n",
            "53/53 [==============================] - 6s 105ms/step - loss: 0.1126 - mse: 1.0223 - accuracy: 0.2399 - val_loss: 0.1571 - val_mse: 1.1742 - val_accuracy: 0.1588\n",
            "Epoch 99/100\n",
            "53/53 [==============================] - 6s 111ms/step - loss: 0.1097 - mse: 1.0204 - accuracy: 0.2399 - val_loss: 0.1437 - val_mse: 1.1770 - val_accuracy: 0.1588\n",
            "Epoch 100/100\n",
            "53/53 [==============================] - 6s 105ms/step - loss: 0.1074 - mse: 1.0184 - accuracy: 0.2399 - val_loss: 0.1432 - val_mse: 1.1995 - val_accuracy: 0.1588\n"
          ]
        }
      ],
      "source": [
        "history = model.fit(X_train, y_train, epochs=100, validation_split=0.2, callbacks = callbacks)"
      ]
    },
    {
      "cell_type": "code",
      "execution_count": null,
      "metadata": {
        "id": "C2GMH1J995L6"
      },
      "outputs": [],
      "source": [
        "# Generate list of sequence of days for predictions\n",
        "datelist_future = pd.date_range(datelist_train[-1], periods=n_future, freq='1d').tolist()\n",
        "\n",
        "# Convert Pandas Timestamp to Datetime object (for transformation) --> FUTURE\n",
        "datelist_future_ = []\n",
        "for this_timestamp in datelist_future:\n",
        "    datelist_future_.append(this_timestamp.date())"
      ]
    },
    {
      "cell_type": "code",
      "execution_count": null,
      "metadata": {
        "colab": {
          "base_uri": "https://localhost:8080/"
        },
        "id": "X3Nrt_KH9-Fr",
        "outputId": "e00860cb-3b12-498d-e057-17e1e6b8e276"
      },
      "outputs": [
        {
          "data": {
            "text/plain": [
              "Timestamp('2022-08-18 23:00:00', freq='H')"
            ]
          },
          "execution_count": 58,
          "metadata": {},
          "output_type": "execute_result"
        }
      ],
      "source": [
        "datelist_train[-1]"
      ]
    },
    {
      "cell_type": "code",
      "execution_count": null,
      "metadata": {
        "colab": {
          "base_uri": "https://localhost:8080/"
        },
        "id": "nBsaRXAk-B-h",
        "outputId": "e461bb9b-0fc5-4e6d-d17e-ab79a661663b"
      },
      "outputs": [
        {
          "data": {
            "text/plain": [
              "[datetime.date(2022, 8, 18),\n",
              " datetime.date(2022, 8, 19),\n",
              " datetime.date(2022, 8, 20),\n",
              " datetime.date(2022, 8, 21),\n",
              " datetime.date(2022, 8, 22),\n",
              " datetime.date(2022, 8, 23),\n",
              " datetime.date(2022, 8, 24)]"
            ]
          },
          "execution_count": 59,
          "metadata": {},
          "output_type": "execute_result"
        }
      ],
      "source": [
        "datelist_future_"
      ]
    },
    {
      "cell_type": "code",
      "execution_count": null,
      "metadata": {
        "id": "Nrjd4iO--Gi5"
      },
      "outputs": [],
      "source": [
        "# Perform predictions\n",
        "predictions_future = model.predict(X_train[-n_future:])\n",
        "predictions_train = model.predict(X_train[n_past:])"
      ]
    },
    {
      "cell_type": "code",
      "execution_count": null,
      "metadata": {
        "id": "5St8MeQe-KdG"
      },
      "outputs": [],
      "source": [
        "# Inverse the predictions to original measurements\n",
        "\n",
        "# ---> Special function: convert <datetime.date> to <Timestamp>\n",
        "def datetime_to_timestamp(x):\n",
        "    '''\n",
        "        x : a given datetime value (datetime.date)\n",
        "    '''\n",
        "    return datetime.strptime(x.strftime('%Y%m%d'), '%Y%m%d')\n",
        "\n",
        "\n",
        "y_pred_future = sc_predict.inverse_transform(predictions_future)\n",
        "y_pred_train = sc_predict.inverse_transform(predictions_train)\n",
        "PREDICTIONS_FUTURE = pd.DataFrame(y_pred_future, columns=['PM2.5']).set_index(pd.Series(datelist_future))\n",
        "PREDICTION_TRAIN = pd.DataFrame(y_pred_train, columns=['PM2.5']).set_index(pd.Series(datelist_train[2 * n_past + n_future -1:]))"
      ]
    },
    {
      "cell_type": "code",
      "execution_count": null,
      "metadata": {
        "colab": {
          "base_uri": "https://localhost:8080/",
          "height": 269
        },
        "id": "iEgJjCSR-Pmm",
        "outputId": "b5c2a010-1249-4359-f90a-692760a7bd04"
      },
      "outputs": [
        {
          "data": {
            "text/html": [
              "\n",
              "  <div id=\"df-be100735-ecb5-4547-8aa7-177cadbe3ece\">\n",
              "    <div class=\"colab-df-container\">\n",
              "      <div>\n",
              "<style scoped>\n",
              "    .dataframe tbody tr th:only-of-type {\n",
              "        vertical-align: middle;\n",
              "    }\n",
              "\n",
              "    .dataframe tbody tr th {\n",
              "        vertical-align: top;\n",
              "    }\n",
              "\n",
              "    .dataframe thead th {\n",
              "        text-align: right;\n",
              "    }\n",
              "</style>\n",
              "<table border=\"1\" class=\"dataframe\">\n",
              "  <thead>\n",
              "    <tr style=\"text-align: right;\">\n",
              "      <th></th>\n",
              "      <th>PM2.5</th>\n",
              "    </tr>\n",
              "  </thead>\n",
              "  <tbody>\n",
              "    <tr>\n",
              "      <th>2022-08-18 23:00:00</th>\n",
              "      <td>0.556204</td>\n",
              "    </tr>\n",
              "    <tr>\n",
              "      <th>2022-08-19 23:00:00</th>\n",
              "      <td>0.565013</td>\n",
              "    </tr>\n",
              "    <tr>\n",
              "      <th>2022-08-20 23:00:00</th>\n",
              "      <td>0.567837</td>\n",
              "    </tr>\n",
              "    <tr>\n",
              "      <th>2022-08-21 23:00:00</th>\n",
              "      <td>0.575656</td>\n",
              "    </tr>\n",
              "    <tr>\n",
              "      <th>2022-08-22 23:00:00</th>\n",
              "      <td>0.570114</td>\n",
              "    </tr>\n",
              "    <tr>\n",
              "      <th>2022-08-23 23:00:00</th>\n",
              "      <td>0.572166</td>\n",
              "    </tr>\n",
              "    <tr>\n",
              "      <th>2022-08-24 23:00:00</th>\n",
              "      <td>0.571216</td>\n",
              "    </tr>\n",
              "  </tbody>\n",
              "</table>\n",
              "</div>\n",
              "      <button class=\"colab-df-convert\" onclick=\"convertToInteractive('df-be100735-ecb5-4547-8aa7-177cadbe3ece')\"\n",
              "              title=\"Convert this dataframe to an interactive table.\"\n",
              "              style=\"display:none;\">\n",
              "        \n",
              "  <svg xmlns=\"http://www.w3.org/2000/svg\" height=\"24px\"viewBox=\"0 0 24 24\"\n",
              "       width=\"24px\">\n",
              "    <path d=\"M0 0h24v24H0V0z\" fill=\"none\"/>\n",
              "    <path d=\"M18.56 5.44l.94 2.06.94-2.06 2.06-.94-2.06-.94-.94-2.06-.94 2.06-2.06.94zm-11 1L8.5 8.5l.94-2.06 2.06-.94-2.06-.94L8.5 2.5l-.94 2.06-2.06.94zm10 10l.94 2.06.94-2.06 2.06-.94-2.06-.94-.94-2.06-.94 2.06-2.06.94z\"/><path d=\"M17.41 7.96l-1.37-1.37c-.4-.4-.92-.59-1.43-.59-.52 0-1.04.2-1.43.59L10.3 9.45l-7.72 7.72c-.78.78-.78 2.05 0 2.83L4 21.41c.39.39.9.59 1.41.59.51 0 1.02-.2 1.41-.59l7.78-7.78 2.81-2.81c.8-.78.8-2.07 0-2.86zM5.41 20L4 18.59l7.72-7.72 1.47 1.35L5.41 20z\"/>\n",
              "  </svg>\n",
              "      </button>\n",
              "      \n",
              "  <style>\n",
              "    .colab-df-container {\n",
              "      display:flex;\n",
              "      flex-wrap:wrap;\n",
              "      gap: 12px;\n",
              "    }\n",
              "\n",
              "    .colab-df-convert {\n",
              "      background-color: #E8F0FE;\n",
              "      border: none;\n",
              "      border-radius: 50%;\n",
              "      cursor: pointer;\n",
              "      display: none;\n",
              "      fill: #1967D2;\n",
              "      height: 32px;\n",
              "      padding: 0 0 0 0;\n",
              "      width: 32px;\n",
              "    }\n",
              "\n",
              "    .colab-df-convert:hover {\n",
              "      background-color: #E2EBFA;\n",
              "      box-shadow: 0px 1px 2px rgba(60, 64, 67, 0.3), 0px 1px 3px 1px rgba(60, 64, 67, 0.15);\n",
              "      fill: #174EA6;\n",
              "    }\n",
              "\n",
              "    [theme=dark] .colab-df-convert {\n",
              "      background-color: #3B4455;\n",
              "      fill: #D2E3FC;\n",
              "    }\n",
              "\n",
              "    [theme=dark] .colab-df-convert:hover {\n",
              "      background-color: #434B5C;\n",
              "      box-shadow: 0px 1px 3px 1px rgba(0, 0, 0, 0.15);\n",
              "      filter: drop-shadow(0px 1px 2px rgba(0, 0, 0, 0.3));\n",
              "      fill: #FFFFFF;\n",
              "    }\n",
              "  </style>\n",
              "\n",
              "      <script>\n",
              "        const buttonEl =\n",
              "          document.querySelector('#df-be100735-ecb5-4547-8aa7-177cadbe3ece button.colab-df-convert');\n",
              "        buttonEl.style.display =\n",
              "          google.colab.kernel.accessAllowed ? 'block' : 'none';\n",
              "\n",
              "        async function convertToInteractive(key) {\n",
              "          const element = document.querySelector('#df-be100735-ecb5-4547-8aa7-177cadbe3ece');\n",
              "          const dataTable =\n",
              "            await google.colab.kernel.invokeFunction('convertToInteractive',\n",
              "                                                     [key], {});\n",
              "          if (!dataTable) return;\n",
              "\n",
              "          const docLinkHtml = 'Like what you see? Visit the ' +\n",
              "            '<a target=\"_blank\" href=https://colab.research.google.com/notebooks/data_table.ipynb>data table notebook</a>'\n",
              "            + ' to learn more about interactive tables.';\n",
              "          element.innerHTML = '';\n",
              "          dataTable['output_type'] = 'display_data';\n",
              "          await google.colab.output.renderOutput(dataTable, element);\n",
              "          const docLink = document.createElement('div');\n",
              "          docLink.innerHTML = docLinkHtml;\n",
              "          element.appendChild(docLink);\n",
              "        }\n",
              "      </script>\n",
              "    </div>\n",
              "  </div>\n",
              "  "
            ],
            "text/plain": [
              "                        PM2.5\n",
              "2022-08-18 23:00:00  0.556204\n",
              "2022-08-19 23:00:00  0.565013\n",
              "2022-08-20 23:00:00  0.567837\n",
              "2022-08-21 23:00:00  0.575656\n",
              "2022-08-22 23:00:00  0.570114\n",
              "2022-08-23 23:00:00  0.572166\n",
              "2022-08-24 23:00:00  0.571216"
            ]
          },
          "execution_count": 62,
          "metadata": {},
          "output_type": "execute_result"
        }
      ],
      "source": [
        "PREDICTIONS_FUTURE"
      ]
    },
    {
      "cell_type": "code",
      "execution_count": null,
      "metadata": {
        "colab": {
          "base_uri": "https://localhost:8080/",
          "height": 423
        },
        "id": "eU-D6CL4-Vdm",
        "outputId": "b6049cd2-806a-459d-a6b1-9232ef152f6a"
      },
      "outputs": [
        {
          "data": {
            "text/html": [
              "\n",
              "  <div id=\"df-13d89ace-a409-4ed7-b979-5952e1958c57\">\n",
              "    <div class=\"colab-df-container\">\n",
              "      <div>\n",
              "<style scoped>\n",
              "    .dataframe tbody tr th:only-of-type {\n",
              "        vertical-align: middle;\n",
              "    }\n",
              "\n",
              "    .dataframe tbody tr th {\n",
              "        vertical-align: top;\n",
              "    }\n",
              "\n",
              "    .dataframe thead th {\n",
              "        text-align: right;\n",
              "    }\n",
              "</style>\n",
              "<table border=\"1\" class=\"dataframe\">\n",
              "  <thead>\n",
              "    <tr style=\"text-align: right;\">\n",
              "      <th></th>\n",
              "      <th>PM2.5</th>\n",
              "    </tr>\n",
              "  </thead>\n",
              "  <tbody>\n",
              "    <tr>\n",
              "      <th>2022-05-27 06:00:00</th>\n",
              "      <td>0.558531</td>\n",
              "    </tr>\n",
              "    <tr>\n",
              "      <th>2022-05-27 07:00:00</th>\n",
              "      <td>0.558525</td>\n",
              "    </tr>\n",
              "    <tr>\n",
              "      <th>2022-05-27 08:00:00</th>\n",
              "      <td>0.576791</td>\n",
              "    </tr>\n",
              "    <tr>\n",
              "      <th>2022-05-27 09:00:00</th>\n",
              "      <td>0.567827</td>\n",
              "    </tr>\n",
              "    <tr>\n",
              "      <th>2022-05-27 10:00:00</th>\n",
              "      <td>0.579080</td>\n",
              "    </tr>\n",
              "    <tr>\n",
              "      <th>...</th>\n",
              "      <td>...</td>\n",
              "    </tr>\n",
              "    <tr>\n",
              "      <th>2022-08-18 19:00:00</th>\n",
              "      <td>0.567837</td>\n",
              "    </tr>\n",
              "    <tr>\n",
              "      <th>2022-08-18 20:00:00</th>\n",
              "      <td>0.575656</td>\n",
              "    </tr>\n",
              "    <tr>\n",
              "      <th>2022-08-18 21:00:00</th>\n",
              "      <td>0.570114</td>\n",
              "    </tr>\n",
              "    <tr>\n",
              "      <th>2022-08-18 22:00:00</th>\n",
              "      <td>0.572166</td>\n",
              "    </tr>\n",
              "    <tr>\n",
              "      <th>2022-08-18 23:00:00</th>\n",
              "      <td>0.571216</td>\n",
              "    </tr>\n",
              "  </tbody>\n",
              "</table>\n",
              "<p>2010 rows × 1 columns</p>\n",
              "</div>\n",
              "      <button class=\"colab-df-convert\" onclick=\"convertToInteractive('df-13d89ace-a409-4ed7-b979-5952e1958c57')\"\n",
              "              title=\"Convert this dataframe to an interactive table.\"\n",
              "              style=\"display:none;\">\n",
              "        \n",
              "  <svg xmlns=\"http://www.w3.org/2000/svg\" height=\"24px\"viewBox=\"0 0 24 24\"\n",
              "       width=\"24px\">\n",
              "    <path d=\"M0 0h24v24H0V0z\" fill=\"none\"/>\n",
              "    <path d=\"M18.56 5.44l.94 2.06.94-2.06 2.06-.94-2.06-.94-.94-2.06-.94 2.06-2.06.94zm-11 1L8.5 8.5l.94-2.06 2.06-.94-2.06-.94L8.5 2.5l-.94 2.06-2.06.94zm10 10l.94 2.06.94-2.06 2.06-.94-2.06-.94-.94-2.06-.94 2.06-2.06.94z\"/><path d=\"M17.41 7.96l-1.37-1.37c-.4-.4-.92-.59-1.43-.59-.52 0-1.04.2-1.43.59L10.3 9.45l-7.72 7.72c-.78.78-.78 2.05 0 2.83L4 21.41c.39.39.9.59 1.41.59.51 0 1.02-.2 1.41-.59l7.78-7.78 2.81-2.81c.8-.78.8-2.07 0-2.86zM5.41 20L4 18.59l7.72-7.72 1.47 1.35L5.41 20z\"/>\n",
              "  </svg>\n",
              "      </button>\n",
              "      \n",
              "  <style>\n",
              "    .colab-df-container {\n",
              "      display:flex;\n",
              "      flex-wrap:wrap;\n",
              "      gap: 12px;\n",
              "    }\n",
              "\n",
              "    .colab-df-convert {\n",
              "      background-color: #E8F0FE;\n",
              "      border: none;\n",
              "      border-radius: 50%;\n",
              "      cursor: pointer;\n",
              "      display: none;\n",
              "      fill: #1967D2;\n",
              "      height: 32px;\n",
              "      padding: 0 0 0 0;\n",
              "      width: 32px;\n",
              "    }\n",
              "\n",
              "    .colab-df-convert:hover {\n",
              "      background-color: #E2EBFA;\n",
              "      box-shadow: 0px 1px 2px rgba(60, 64, 67, 0.3), 0px 1px 3px 1px rgba(60, 64, 67, 0.15);\n",
              "      fill: #174EA6;\n",
              "    }\n",
              "\n",
              "    [theme=dark] .colab-df-convert {\n",
              "      background-color: #3B4455;\n",
              "      fill: #D2E3FC;\n",
              "    }\n",
              "\n",
              "    [theme=dark] .colab-df-convert:hover {\n",
              "      background-color: #434B5C;\n",
              "      box-shadow: 0px 1px 3px 1px rgba(0, 0, 0, 0.15);\n",
              "      filter: drop-shadow(0px 1px 2px rgba(0, 0, 0, 0.3));\n",
              "      fill: #FFFFFF;\n",
              "    }\n",
              "  </style>\n",
              "\n",
              "      <script>\n",
              "        const buttonEl =\n",
              "          document.querySelector('#df-13d89ace-a409-4ed7-b979-5952e1958c57 button.colab-df-convert');\n",
              "        buttonEl.style.display =\n",
              "          google.colab.kernel.accessAllowed ? 'block' : 'none';\n",
              "\n",
              "        async function convertToInteractive(key) {\n",
              "          const element = document.querySelector('#df-13d89ace-a409-4ed7-b979-5952e1958c57');\n",
              "          const dataTable =\n",
              "            await google.colab.kernel.invokeFunction('convertToInteractive',\n",
              "                                                     [key], {});\n",
              "          if (!dataTable) return;\n",
              "\n",
              "          const docLinkHtml = 'Like what you see? Visit the ' +\n",
              "            '<a target=\"_blank\" href=https://colab.research.google.com/notebooks/data_table.ipynb>data table notebook</a>'\n",
              "            + ' to learn more about interactive tables.';\n",
              "          element.innerHTML = '';\n",
              "          dataTable['output_type'] = 'display_data';\n",
              "          await google.colab.output.renderOutput(dataTable, element);\n",
              "          const docLink = document.createElement('div');\n",
              "          docLink.innerHTML = docLinkHtml;\n",
              "          element.appendChild(docLink);\n",
              "        }\n",
              "      </script>\n",
              "    </div>\n",
              "  </div>\n",
              "  "
            ],
            "text/plain": [
              "                        PM2.5\n",
              "2022-05-27 06:00:00  0.558531\n",
              "2022-05-27 07:00:00  0.558525\n",
              "2022-05-27 08:00:00  0.576791\n",
              "2022-05-27 09:00:00  0.567827\n",
              "2022-05-27 10:00:00  0.579080\n",
              "...                       ...\n",
              "2022-08-18 19:00:00  0.567837\n",
              "2022-08-18 20:00:00  0.575656\n",
              "2022-08-18 21:00:00  0.570114\n",
              "2022-08-18 22:00:00  0.572166\n",
              "2022-08-18 23:00:00  0.571216\n",
              "\n",
              "[2010 rows x 1 columns]"
            ]
          },
          "execution_count": 63,
          "metadata": {},
          "output_type": "execute_result"
        }
      ],
      "source": [
        "PREDICTION_TRAIN"
      ]
    },
    {
      "cell_type": "code",
      "execution_count": null,
      "metadata": {
        "colab": {
          "base_uri": "https://localhost:8080/",
          "height": 364
        },
        "id": "6k9BJKAt-ayz",
        "outputId": "41c93e10-d545-4900-c4b1-6322defbb5c7"
      },
      "outputs": [
        {
          "data": {
            "text/plain": [
              "Text(0, 0.5, 'PM 2.5')"
            ]
          },
          "execution_count": 64,
          "metadata": {},
          "output_type": "execute_result"
        },
        {
          "data": {
            "image/png": "[encoded data removed]",
            "text/plain": [
              "<Figure size 1008x360 with 1 Axes>"
            ]
          },
          "metadata": {},
          "output_type": "display_data"
        }
      ],
      "source": [
        "# Set plot size \n",
        "# from pylab import rcParams\n",
        "plt.rcParams['figure.figsize'] = 14, 5\n",
        "\n",
        "# Plot parameters\n",
        "START_DATE_FOR_PLOTTING = '2019-07-27'\n",
        "\n",
        "plt.plot(PREDICTIONS_FUTURE.index, PREDICTIONS_FUTURE['PM2.5'], color='r', label='Predicted Particulate matter')\n",
        "plt.plot(PREDICTION_TRAIN.loc[START_DATE_FOR_PLOTTING:].index, PREDICTION_TRAIN.loc[START_DATE_FOR_PLOTTING:]['PM2.5'], color='orange', label='Training predictions')\n",
        "plt.plot(df_new_actual.loc[START_DATE_FOR_PLOTTING:].index, df_new_actual.loc[START_DATE_FOR_PLOTTING:]['PM2.5'], color='b', label='Actual data')\n",
        "\n",
        "plt.axvline(x = min(PREDICTIONS_FUTURE.index), color='green', linewidth=2, linestyle='--')\n",
        "\n",
        "plt.grid(which='major', color='#cccccc', alpha=0.5)\n",
        "\n",
        "plt.legend(shadow=True)\n",
        "plt.title('Predcitions and Acutal Particulate Matter Vaalues', family='Arial', fontsize=12)\n",
        "plt.xlabel('Timeline', family='Arial', fontsize=10)\n",
        "plt.ylabel('PM 2.5', family='Arial', fontsize=10)\n",
        "# plt.xticks(rotation=45, fontsize=8)\n",
        "# plt.show()"
      ]
    },
    {
      "cell_type": "code",
      "execution_count": null,
      "metadata": {
        "colab": {
          "base_uri": "https://localhost:8080/",
          "height": 343
        },
        "id": "EGmHOhl7-gVN",
        "outputId": "7444bcf1-b950-4336-ae81-0730b237f6d5"
      },
      "outputs": [
        {
          "data": {
            "text/plain": [
              "(1.0, 100.0, 0.0, 1.0)"
            ]
          },
          "execution_count": 114,
          "metadata": {},
          "output_type": "execute_result"
        },
        {
          "data": {
            "image/png": "[encoded data removed]",
            "text/plain": [
              "<Figure size 1008x360 with 1 Axes>"
            ]
          },
          "metadata": {},
          "output_type": "display_data"
        }
      ],
      "source": [
        "import matplotlib.pyplot as plt\n",
        "\n",
        "plt.semilogx(history.history[\"loss\"])\n",
        "plt.axis([1, 100, 0, 1])\n"
      ]
    },
    {
      "cell_type": "code",
      "execution_count": null,
      "metadata": {
        "colab": {
          "base_uri": "https://localhost:8080/",
          "height": 343
        },
        "id": "QlHPHveMUoJn",
        "outputId": "e6ffc070-d5ba-4f1e-93f0-a19fe7882dbc"
      },
      "outputs": [
        {
          "data": {
            "text/plain": [
              "(1.0, 100.0, 0.0, 1.0)"
            ]
          },
          "execution_count": 115,
          "metadata": {},
          "output_type": "execute_result"
        },
        {
          "data": {
            "image/png": "[encoded data removed]",
            "text/plain": [
              "<Figure size 1008x360 with 1 Axes>"
            ]
          },
          "metadata": {},
          "output_type": "display_data"
        }
      ],
      "source": [
        "\n",
        "plt.semilogx(history.history[\"accuracy\"])\n",
        "plt.axis([1, 100, 0, 1])"
      ]
    },
    {
      "cell_type": "code",
      "execution_count": null,
      "metadata": {
        "colab": {
          "base_uri": "https://localhost:8080/",
          "height": 341
        },
        "id": "sJX0Y3t_-3g9",
        "outputId": "4796861d-6280-49e5-c4b9-db996da3d9c8"
      },
      "outputs": [
        {
          "data": {
            "text/plain": [
              "(1.0, 100.0, 0.0, 2.0)"
            ]
          },
          "execution_count": 116,
          "metadata": {},
          "output_type": "execute_result"
        },
        {
          "data": {
            "image/png": "[encoded data removed]",
            "text/plain": [
              "<Figure size 1008x360 with 1 Axes>"
            ]
          },
          "metadata": {},
          "output_type": "display_data"
        }
      ],
      "source": [
        "plt.semilogx(history.history[\"mse\"])\n",
        "plt.axis([1, 100, 0, 2])"
      ]
    },
    {
      "cell_type": "code",
      "execution_count": null,
      "metadata": {
        "colab": {
          "base_uri": "https://localhost:8080/"
        },
        "id": "-PKeyxqfUu5I",
        "outputId": "e209a361-b3a7-4ccb-8339-57dd96fc3ba9"
      },
      "outputs": [
        {
          "name": "stdout",
          "output_type": "stream",
          "text": [
            "-0.312888\n",
            "-0.238892\n",
            "-0.178366\n"
          ]
        }
      ],
      "source": [
        "from time import sleep\n",
        "for i in range(PREDICTIONS_FUTURE.shape[0]):\n",
        "  value = str(PREDICTIONS_FUTURE.iloc[i:i+1,0:1])\n",
        "  valuelist=value.split()\n",
        "  val = valuelist[-1]\n",
        "  print(val)\n",
        "  val = val.replace(' ', \"%20\")\n",
        "  val = val.replace('\\n', \"%0A\")\n",
        "  b=urllib.request.urlopen('https://api.thingspeak.com/update?api_key=LZAJPLQ3O40YZ6FT&field1='+ val)\n",
        "  sleep(15)"
      ]
    },
    {
      "cell_type": "code",
      "execution_count": null,
      "metadata": {
        "id": "mRIKKtZOITpp"
      },
      "outputs": [],
      "source": [
        "%tensorboard --logdir logs"
      ]
    },
    {
      "cell_type": "code",
      "execution_count": null,
      "metadata": {
        "id": "CwOcv9Npbpom"
      },
      "outputs": [],
      "source": []
    }
  ],
  "metadata": {
    "colab": {
      "collapsed_sections": [],
      "provenance": [],
      "include_colab_link": true
    },
    "kernelspec": {
      "display_name": "Python 3",
      "name": "python3"
    },
    "language_info": {
      "name": "python"
    }
  },
  "nbformat": 4,
  "nbformat_minor": 0
}